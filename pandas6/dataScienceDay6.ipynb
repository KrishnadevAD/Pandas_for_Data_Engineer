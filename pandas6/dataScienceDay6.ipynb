{
 "cells": [
  {
   "cell_type": "code",
   "execution_count": 4,
   "id": "f0ac1cda",
   "metadata": {},
   "outputs": [
    {
     "name": "stdout",
     "output_type": "stream",
     "text": [
      "1    90\n",
      "2    85\n",
      "3    96\n",
      "4    80\n",
      "5    88\n",
      "6    76\n",
      "7    99\n",
      "dtype: int64\n"
     ]
    }
   ],
   "source": [
    "import pandas as pd\n",
    "student_english={1:90,2:85,3:96,4:80,5:88,6:76,7:99}\n",
    "total1=pd.Series(student_english)\n",
    "print(total1)\n",
    "\n"
   ]
  },
  {
   "cell_type": "code",
   "execution_count": 7,
   "id": "e9e2cc99",
   "metadata": {},
   "outputs": [
    {
     "name": "stdout",
     "output_type": "stream",
     "text": [
      "1    98\n",
      "2    89\n",
      "3    96\n",
      "4    80\n",
      "5    68\n",
      "6    96\n",
      "7    59\n",
      "dtype: int64\n"
     ]
    }
   ],
   "source": [
    "student_math={1:98,2:89,3:96,4:80,5:68,6:96,7:59}\n",
    "total2=pd.Series(student_math)\n",
    "print(total2)"
   ]
  },
  {
   "cell_type": "code",
   "execution_count": 8,
   "id": "1c22bdfc",
   "metadata": {},
   "outputs": [
    {
     "name": "stdout",
     "output_type": "stream",
     "text": [
      "1    97\n",
      "2    95\n",
      "3    96\n",
      "4    90\n",
      "5    88\n",
      "6    86\n",
      "7    49\n",
      "dtype: int64\n"
     ]
    }
   ],
   "source": [
    "\n",
    "student_science={1:97,2:95,3:96,4:90,5:88,6:86,7:49}\n",
    "total3=pd.Series(student_science)\n",
    "print(total3)"
   ]
  },
  {
   "cell_type": "code",
   "execution_count": null,
   "id": "d0740080",
   "metadata": {},
   "outputs": [],
   "source": []
  }
 ],
 "metadata": {
  "kernelspec": {
   "display_name": "Python 3 (ipykernel)",
   "language": "python",
   "name": "python3"
  },
  "language_info": {
   "codemirror_mode": {
    "name": "ipython",
    "version": 3
   },
   "file_extension": ".py",
   "mimetype": "text/x-python",
   "name": "python",
   "nbconvert_exporter": "python",
   "pygments_lexer": "ipython3",
   "version": "3.10.6"
  }
 },
 "nbformat": 4,
 "nbformat_minor": 5
}
